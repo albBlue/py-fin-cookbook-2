{
  "cells": [
    {
      "cell_type": "markdown",
      "metadata": {
        "id": "view-in-github",
        "colab_type": "text"
      },
      "source": [
        "<a href=\"https://colab.research.google.com/github/albBlue/py-fin-cookbook-2/blob/main/alb/01_data_import.ipynb\" target=\"_parent\"><img src=\"https://colab.research.google.com/assets/colab-badge.svg\" alt=\"Open In Colab\"/></a>"
      ]
    },
    {
      "cell_type": "markdown",
      "source": [
        "## INSTALL LIBRARIES "
      ],
      "metadata": {
        "id": "JNUNhMJVmCSf"
      }
    },
    {
      "cell_type": "code",
      "source": [
        "!pip install pandas \n",
        "!pip install yfinance \n",
        "!pip install matplotlib-venn\n"
      ],
      "metadata": {
        "id": "NkshFQ_KmCo3"
      },
      "execution_count": null,
      "outputs": []
    },
    {
      "cell_type": "markdown",
      "metadata": {
        "id": "SO7id-qUULtO"
      },
      "source": [
        "## Chapter 1 - Acquiring Financial Data "
      ]
    },
    {
      "cell_type": "markdown",
      "metadata": {
        "id": "a2eLmqKkULtM"
      },
      "source": [
        "Please run those two cells before running the Notebook!\n",
        "\n",
        "As those plotting settings are standard throughout the book, we do not show them in the book every time we plot something."
      ]
    },
    {
      "cell_type": "code",
      "execution_count": 2,
      "metadata": {
        "ExecuteTime": {
          "end_time": "2020-01-29T10:48:06.120195Z",
          "start_time": "2020-01-29T10:48:05.814125Z"
        },
        "id": "JehuivQCULtN"
      },
      "outputs": [],
      "source": [
        "# %matplotlib inline\n",
        "%config InlineBackend.figure_format = \"retina\""
      ]
    },
    {
      "cell_type": "code",
      "execution_count": 3,
      "metadata": {
        "ExecuteTime": {
          "end_time": "2020-01-29T10:48:13.141309Z",
          "start_time": "2020-01-29T10:48:13.137453Z"
        },
        "id": "uCSk71UBULtO"
      },
      "outputs": [],
      "source": [
        "import matplotlib.pyplot as plt\n",
        "import seaborn as sns\n",
        "\n",
        "import warnings\n",
        "from pandas.core.common import SettingWithCopyWarning\n",
        "warnings.simplefilter(action=\"ignore\", category=FutureWarning)\n",
        "warnings.simplefilter(action=\"ignore\", category=SettingWithCopyWarning)\n",
        "\n",
        "# feel free to modify, for example, change the context to \"notebook\"\n",
        "sns.set_theme(context=\"talk\", style=\"whitegrid\", \n",
        "              palette=\"colorblind\", color_codes=True, \n",
        "              rc={\"figure.figsize\": [12, 8]})"
      ]
    },
    {
      "cell_type": "markdown",
      "metadata": {
        "id": "4JUmu-5iULtO"
      },
      "source": [
        "## 1.1 Getting data from Yahoo Finance"
      ]
    },
    {
      "cell_type": "markdown",
      "metadata": {
        "id": "dRw3KnegULtO"
      },
      "source": [
        "### How to do it..."
      ]
    },
    {
      "cell_type": "markdown",
      "metadata": {
        "id": "_MFviZYMULtO"
      },
      "source": [
        "1. Import the libraries:"
      ]
    },
    {
      "cell_type": "code",
      "execution_count": 4,
      "metadata": {
        "ExecuteTime": {
          "end_time": "2020-01-17T23:26:32.940680Z",
          "start_time": "2020-01-17T23:26:31.807352Z"
        },
        "id": "CbOrN78DULtO"
      },
      "outputs": [],
      "source": [
        "import pandas as pd \n",
        "import yfinance as yf"
      ]
    },
    {
      "cell_type": "markdown",
      "metadata": {
        "id": "F_mWqe45ULtO"
      },
      "source": [
        "2. Download the data:"
      ]
    },
    {
      "cell_type": "code",
      "execution_count": 5,
      "metadata": {
        "ExecuteTime": {
          "end_time": "2020-01-17T23:26:33.877155Z",
          "start_time": "2020-01-17T23:26:33.576806Z"
        },
        "id": "jDX4wSa_ULtO"
      },
      "outputs": [],
      "source": [
        "df = yf.download(\"AAPL\", \n",
        "                 start=\"2011-01-01\", \n",
        "                 end=\"2021-12-31\",\n",
        "                 progress=False)"
      ]
    },
    {
      "cell_type": "markdown",
      "metadata": {
        "id": "wGPFgm0bULtO"
      },
      "source": [
        "3. Inspect the data:"
      ]
    },
    {
      "cell_type": "code",
      "execution_count": null,
      "metadata": {
        "ExecuteTime": {
          "end_time": "2020-01-17T23:26:38.561800Z",
          "start_time": "2020-01-17T23:26:38.541896Z"
        },
        "scrolled": true,
        "id": "i29XnlkyULtO"
      },
      "outputs": [],
      "source": [
        "print(f\"Downloaded {len(df)} rows of data.\")\n",
        "df"
      ]
    },
    {
      "cell_type": "markdown",
      "metadata": {
        "id": "rGDpBHJyULtP"
      },
      "source": [
        "### There's more"
      ]
    },
    {
      "cell_type": "markdown",
      "metadata": {
        "id": "oHFJqLb_ULtP"
      },
      "source": [
        "We can also use the `Ticker` class to download the historical prices and much more."
      ]
    },
    {
      "cell_type": "code",
      "execution_count": 7,
      "metadata": {
        "id": "uAM-r8rwULtP"
      },
      "outputs": [],
      "source": [
        "# instantiate the Ticker class\n",
        "aapl_data = yf.Ticker(\"AAPL\")"
      ]
    },
    {
      "cell_type": "code",
      "execution_count": null,
      "metadata": {
        "id": "M_SFvPG6ULtP"
      },
      "outputs": [],
      "source": [
        "# get the last month of historical prices\n",
        "aapl_data.history()"
      ]
    },
    {
      "cell_type": "code",
      "execution_count": null,
      "metadata": {
        "id": "XthYByy8ULtP"
      },
      "outputs": [],
      "source": [
        "# get stock's info\n",
        "# aapl_data.info"
      ]
    },
    {
      "cell_type": "code",
      "execution_count": null,
      "metadata": {
        "id": "KN9L_-ROULtP"
      },
      "outputs": [],
      "source": [
        "# show corporate actions\n",
        "# aapl_data.actions"
      ]
    },
    {
      "cell_type": "code",
      "execution_count": null,
      "metadata": {
        "id": "c6_yxB2uULtP"
      },
      "outputs": [],
      "source": [
        "# show financials\n",
        "# aapl_data.financials"
      ]
    },
    {
      "cell_type": "code",
      "execution_count": null,
      "metadata": {
        "id": "u1CBO82qULtP"
      },
      "outputs": [],
      "source": [
        "# show quarterly financials\n",
        "# aapl_data.quarterly_financials"
      ]
    },
    {
      "cell_type": "code",
      "execution_count": null,
      "metadata": {
        "id": "uX8FujtWULtP"
      },
      "outputs": [],
      "source": [
        "# show earnings\n",
        "# aapl_data.earnings"
      ]
    },
    {
      "cell_type": "code",
      "execution_count": null,
      "metadata": {
        "id": "ojmzXDYlULtP"
      },
      "outputs": [],
      "source": [
        "# show quarterly earnings\n",
        "# aapl_data.quarterly_earnings"
      ]
    },
    {
      "cell_type": "code",
      "execution_count": 14,
      "metadata": {
        "id": "fTISPS_jULtP"
      },
      "outputs": [],
      "source": [
        "# show upcoming events, such as earnings\n",
        "aapl_data.calendar"
      ]
    }
  ],
  "metadata": {
    "kernelspec": {
      "display_name": "Python 3.9.10 ('pff2')",
      "language": "python",
      "name": "python3"
    },
    "language_info": {
      "codemirror_mode": {
        "name": "ipython",
        "version": 3
      },
      "file_extension": ".py",
      "mimetype": "text/x-python",
      "name": "python",
      "nbconvert_exporter": "python",
      "pygments_lexer": "ipython3",
      "version": "3.9.10"
    },
    "toc": {
      "base_numbering": 1,
      "nav_menu": {},
      "number_sections": true,
      "sideBar": true,
      "skip_h1_title": false,
      "title_cell": "Table of Contents",
      "title_sidebar": "Contents",
      "toc_cell": false,
      "toc_position": {
        "height": "calc(100% - 180px)",
        "left": "10px",
        "top": "150px",
        "width": "342px"
      },
      "toc_section_display": true,
      "toc_window_display": true
    },
    "varInspector": {
      "cols": {
        "lenName": 16,
        "lenType": 16,
        "lenVar": 40
      },
      "kernels_config": {
        "python": {
          "delete_cmd_postfix": "",
          "delete_cmd_prefix": "del ",
          "library": "var_list.py",
          "varRefreshCmd": "print(var_dic_list())"
        },
        "r": {
          "delete_cmd_postfix": ") ",
          "delete_cmd_prefix": "rm(",
          "library": "var_list.r",
          "varRefreshCmd": "cat(var_dic_list()) "
        }
      },
      "types_to_exclude": [
        "module",
        "function",
        "builtin_function_or_method",
        "instance",
        "_Feature"
      ],
      "window_display": false
    },
    "vscode": {
      "interpreter": {
        "hash": "0117835dafdb051235b33d006a7ad155411608685e1d44af6fb551f6db3e7774"
      }
    },
    "colab": {
      "provenance": [],
      "include_colab_link": true
    }
  },
  "nbformat": 4,
  "nbformat_minor": 0
}